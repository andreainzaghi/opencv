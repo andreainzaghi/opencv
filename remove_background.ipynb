{
 "cells": [
  {
   "cell_type": "code",
   "execution_count": null,
   "metadata": {},
   "outputs": [],
   "source": [
    "import cv2\n",
    "import numpy as np\n",
    "\n",
    "# Read image\n",
    "img = cv2.imread('donna.jfif')\n",
    "hh, ww = img.shape[:2]\n",
    "\n",
    "# threshold on white\n",
    "# Define lower and uppper limits\n",
    "lower = np.array([200, 200, 200])\n",
    "upper = np.array([255, 255, 255])\n",
    "\n",
    "# Create mask to only select black\n",
    "thresh = cv2.inRange(img, lower, upper)\n",
    "\n",
    "# apply morphology\n",
    "kernel = cv2.getStructuringElement(cv2.MORPH_ELLIPSE, (20,20))\n",
    "morph = cv2.morphologyEx(thresh, cv2.MORPH_CLOSE, kernel)\n",
    "\n",
    "# invert morp image\n",
    "mask = 255 - morph\n",
    "\n",
    "# apply mask to image\n",
    "result = cv2.bitwise_and(img, img, mask=mask)\n",
    "\n",
    "\n",
    "# save results\n",
    "# cv2.imwrite('pills_thresh.jpg', thresh)\n",
    "# cv2.imwrite('pills_morph.jpg', morph)\n",
    "# cv2.imwrite('pills_mask.jpg', mask)\n",
    "# cv2.imwrite('pills_result.jpg', result)\n",
    "\n",
    "cv2.imshow('thresh', thresh)\n",
    "cv2.imshow('morph', morph)\n",
    "cv2.imshow('mask', mask)\n",
    "cv2.imshow('result', result)\n",
    "cv2.waitKey(0)\n",
    "cv2.destroyAllWindows()"
   ]
  }
 ],
 "metadata": {
  "kernelspec": {
   "display_name": "Python 3.10.5 64-bit",
   "language": "python",
   "name": "python3"
  },
  "language_info": {
   "codemirror_mode": {
    "name": "ipython",
    "version": 3
   },
   "file_extension": ".py",
   "mimetype": "text/x-python",
   "name": "python",
   "nbconvert_exporter": "python",
   "pygments_lexer": "ipython3",
   "version": "3.10.5"
  },
  "orig_nbformat": 4,
  "vscode": {
   "interpreter": {
    "hash": "434f2bcca716b3712093bbeaf4b043651dd7dfcf409992b3771072bf00fd41a0"
   }
  }
 },
 "nbformat": 4,
 "nbformat_minor": 2
}
