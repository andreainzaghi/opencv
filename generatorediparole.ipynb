{
 "cells": [
  {
   "cell_type": "code",
   "execution_count": 2,
   "metadata": {},
   "outputs": [],
   "source": [
    "#scrivi un combinatore di parole in modo da generare una parola da 1 a 30 lettere e,numero e simboli in modo casuale e senza ripetizioni in python\n",
    "\n",
    "import random\n",
    "import string\n",
    "import os\n",
    "import numpy as np\n",
    "import cv2\n",
    "import matplotlib.pyplot as plt\n",
    "%matplotlib inline\n",
    "\n",
    "def generatore_parole():\n",
    "\n",
    "    #definisco la lunghezza della parola\n",
    "    lunghezza_parola = random.randint(1,30)\n",
    "\n",
    "    #definisco la parola\n",
    "    parola = \"\"\n",
    "\n",
    "    #definisco la lista di caratteri\n",
    "    caratteri = list(string.ascii_letters + string.digits + string.punctuation)\n",
    "\n",
    "    #genero la parola\n",
    "    for i in range(lunghezza_parola):\n",
    "        parola += random.choice(caratteri)\n",
    "\n",
    "    return parola\n",
    "\n",
    "\n",
    "\n"
   ]
  },
  {
   "cell_type": "code",
   "execution_count": 6,
   "metadata": {},
   "outputs": [
    {
     "data": {
      "text/plain": [
       "(500, 500, 3)"
      ]
     },
     "execution_count": 6,
     "metadata": {},
     "output_type": "execute_result"
    },
    {
     "data": {
      "image/png": "[encoded data removed]",
      "text/plain": [
       "<Figure size 640x480 with 1 Axes>"
      ]
     },
     "metadata": {},
     "output_type": "display_data"
    }
   ],
   "source": [
    "black_img= np.zeros(shape=(500,500,3),dtype=np.int16)\n",
    "plt.imshow(black_img)\n",
    "cv2.rectangle(black_img,pt1=(200,200),pt2=(300,300),color=(255,255,255),thickness=-1)\n",
    "plt.imshow(black_img)\n",
    "cv2.imwrite('white_cube.png',black_img)\n",
    "black_img.shape"
   ]
  },
  {
   "cell_type": "code",
   "execution_count": null,
   "metadata": {},
   "outputs": [],
   "source": [
    "import os\n",
    "import numpy as np\n",
    "import cv2\n",
    "import matplotlib.pyplot as plt\n",
    "\n",
    "\n",
    "def display_img(img):\n",
    "    fig = plt.figure(figsize=(6, 6))\n",
    "    ax = fig.add_subplot(111)\n",
    "    ax.imshow(img, cmap='gray')\n",
    "\n",
    "\n",
    "gradient1 = cv2.imread('white_cube.png', 0)\n",
    "img = gradient1\n",
    "contenuto = []\n",
    "px = np.array(img)\n",
    "\n",
    "print(px)\n",
    "for i in range(1024):\n",
    "    for j in range(1024):\n",
    "        if(px[i, j] == 255 & px[i, j] == 255 & px[i, j] == 255):\n",
    "            # la retta sara' perpendicolare all'asse z\n",
    "            contenuto.append({\"x\": i, \"y\": j, \"z\": 0})\n",
    "print(contenuto)\n",
    "display_img(gradient1)"
   ]
  }
 ],
 "metadata": {
  "kernelspec": {
   "display_name": "Python 3.10.5 64-bit",
   "language": "python",
   "name": "python3"
  },
  "language_info": {
   "codemirror_mode": {
    "name": "ipython",
    "version": 3
   },
   "file_extension": ".py",
   "mimetype": "text/x-python",
   "name": "python",
   "nbconvert_exporter": "python",
   "pygments_lexer": "ipython3",
   "version": "3.10.5"
  },
  "orig_nbformat": 4,
  "vscode": {
   "interpreter": {
    "hash": "434f2bcca716b3712093bbeaf4b043651dd7dfcf409992b3771072bf00fd41a0"
   }
  }
 },
 "nbformat": 4,
 "nbformat_minor": 2
}
